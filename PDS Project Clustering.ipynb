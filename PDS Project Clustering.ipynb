{
 "cells": [
  {
   "cell_type": "code",
   "execution_count": 90,
   "id": "c0aa9475",
   "metadata": {},
   "outputs": [],
   "source": [
    "import pandas as pd\n",
    "import numpy as np\n",
    "from sklearn.cluster import KMeans"
   ]
  },
  {
   "cell_type": "code",
   "execution_count": 91,
   "id": "69ac7536",
   "metadata": {},
   "outputs": [
    {
     "data": {
      "text/html": [
       "<div>\n",
       "<style scoped>\n",
       "    .dataframe tbody tr th:only-of-type {\n",
       "        vertical-align: middle;\n",
       "    }\n",
       "\n",
       "    .dataframe tbody tr th {\n",
       "        vertical-align: top;\n",
       "    }\n",
       "\n",
       "    .dataframe thead th {\n",
       "        text-align: right;\n",
       "    }\n",
       "</style>\n",
       "<table border=\"1\" class=\"dataframe\">\n",
       "  <thead>\n",
       "    <tr style=\"text-align: right;\">\n",
       "      <th></th>\n",
       "      <th>NAME</th>\n",
       "      <th>host_identity_verified</th>\n",
       "      <th>host name</th>\n",
       "      <th>neighbourhood group</th>\n",
       "      <th>neighbourhood</th>\n",
       "      <th>lat</th>\n",
       "      <th>long</th>\n",
       "      <th>instant_bookable</th>\n",
       "      <th>cancellation_policy</th>\n",
       "      <th>room type</th>\n",
       "      <th>Construction year</th>\n",
       "      <th>price</th>\n",
       "      <th>service fee</th>\n",
       "      <th>minimum nights</th>\n",
       "      <th>number of reviews</th>\n",
       "      <th>last review</th>\n",
       "      <th>reviews per month</th>\n",
       "      <th>review rate number</th>\n",
       "      <th>calculated host listings count</th>\n",
       "      <th>availability 365</th>\n",
       "    </tr>\n",
       "  </thead>\n",
       "  <tbody>\n",
       "    <tr>\n",
       "      <th>0</th>\n",
       "      <td>Clean &amp; quiet apt home by the park</td>\n",
       "      <td>unconfirmed</td>\n",
       "      <td>Madaline</td>\n",
       "      <td>Brooklyn</td>\n",
       "      <td>Kensington</td>\n",
       "      <td>40.64749</td>\n",
       "      <td>-73.97237</td>\n",
       "      <td>False</td>\n",
       "      <td>strict</td>\n",
       "      <td>Private room</td>\n",
       "      <td>2020.0</td>\n",
       "      <td>966</td>\n",
       "      <td>193</td>\n",
       "      <td>10.0</td>\n",
       "      <td>9.0</td>\n",
       "      <td>10/19/2021</td>\n",
       "      <td>0.21</td>\n",
       "      <td>4.0</td>\n",
       "      <td>6.0</td>\n",
       "      <td>286.0</td>\n",
       "    </tr>\n",
       "    <tr>\n",
       "      <th>1</th>\n",
       "      <td>THE VILLAGE OF HARLEM....NEW YORK !</td>\n",
       "      <td>unconfirmed</td>\n",
       "      <td>Elise</td>\n",
       "      <td>Manhattan</td>\n",
       "      <td>Harlem</td>\n",
       "      <td>40.80902</td>\n",
       "      <td>-73.94190</td>\n",
       "      <td>True</td>\n",
       "      <td>flexible</td>\n",
       "      <td>Private room</td>\n",
       "      <td>2005.0</td>\n",
       "      <td>620</td>\n",
       "      <td>124</td>\n",
       "      <td>3.0</td>\n",
       "      <td>0.0</td>\n",
       "      <td>00-00-00</td>\n",
       "      <td>0.00</td>\n",
       "      <td>5.0</td>\n",
       "      <td>1.0</td>\n",
       "      <td>352.0</td>\n",
       "    </tr>\n",
       "    <tr>\n",
       "      <th>2</th>\n",
       "      <td>Entire Apt: Spacious Studio/Loft by central park</td>\n",
       "      <td>verified</td>\n",
       "      <td>Lyndon</td>\n",
       "      <td>Manhattan</td>\n",
       "      <td>East Harlem</td>\n",
       "      <td>40.79851</td>\n",
       "      <td>-73.94399</td>\n",
       "      <td>False</td>\n",
       "      <td>moderate</td>\n",
       "      <td>Entire home/apt</td>\n",
       "      <td>2009.0</td>\n",
       "      <td>204</td>\n",
       "      <td>41</td>\n",
       "      <td>10.0</td>\n",
       "      <td>9.0</td>\n",
       "      <td>11/19/2018</td>\n",
       "      <td>0.10</td>\n",
       "      <td>3.0</td>\n",
       "      <td>1.0</td>\n",
       "      <td>289.0</td>\n",
       "    </tr>\n",
       "    <tr>\n",
       "      <th>3</th>\n",
       "      <td>Large Furnished Room Near B'way</td>\n",
       "      <td>verified</td>\n",
       "      <td>Evelyn</td>\n",
       "      <td>Manhattan</td>\n",
       "      <td>Hell's Kitchen</td>\n",
       "      <td>40.76489</td>\n",
       "      <td>-73.98493</td>\n",
       "      <td>True</td>\n",
       "      <td>strict</td>\n",
       "      <td>Private room</td>\n",
       "      <td>2005.0</td>\n",
       "      <td>1018</td>\n",
       "      <td>204</td>\n",
       "      <td>2.0</td>\n",
       "      <td>430.0</td>\n",
       "      <td>6/24/2019</td>\n",
       "      <td>3.47</td>\n",
       "      <td>3.0</td>\n",
       "      <td>1.0</td>\n",
       "      <td>180.0</td>\n",
       "    </tr>\n",
       "    <tr>\n",
       "      <th>4</th>\n",
       "      <td>Cute &amp; Cozy Lower East Side 1 bdrm</td>\n",
       "      <td>verified</td>\n",
       "      <td>Miranda</td>\n",
       "      <td>Manhattan</td>\n",
       "      <td>Chinatown</td>\n",
       "      <td>40.71344</td>\n",
       "      <td>-73.99037</td>\n",
       "      <td>False</td>\n",
       "      <td>flexible</td>\n",
       "      <td>Entire home/apt</td>\n",
       "      <td>2004.0</td>\n",
       "      <td>319</td>\n",
       "      <td>64</td>\n",
       "      <td>1.0</td>\n",
       "      <td>160.0</td>\n",
       "      <td>6/9/2019</td>\n",
       "      <td>1.33</td>\n",
       "      <td>3.0</td>\n",
       "      <td>4.0</td>\n",
       "      <td>1.0</td>\n",
       "    </tr>\n",
       "  </tbody>\n",
       "</table>\n",
       "</div>"
      ],
      "text/plain": [
       "                                               NAME host_identity_verified  \\\n",
       "0                Clean & quiet apt home by the park            unconfirmed   \n",
       "1               THE VILLAGE OF HARLEM....NEW YORK !            unconfirmed   \n",
       "2  Entire Apt: Spacious Studio/Loft by central park               verified   \n",
       "3                   Large Furnished Room Near B'way               verified   \n",
       "4                Cute & Cozy Lower East Side 1 bdrm               verified   \n",
       "\n",
       "  host name neighbourhood group   neighbourhood       lat      long  \\\n",
       "0  Madaline            Brooklyn      Kensington  40.64749 -73.97237   \n",
       "1     Elise           Manhattan          Harlem  40.80902 -73.94190   \n",
       "2    Lyndon           Manhattan     East Harlem  40.79851 -73.94399   \n",
       "3    Evelyn           Manhattan  Hell's Kitchen  40.76489 -73.98493   \n",
       "4   Miranda           Manhattan       Chinatown  40.71344 -73.99037   \n",
       "\n",
       "   instant_bookable cancellation_policy        room type  Construction year  \\\n",
       "0             False              strict     Private room             2020.0   \n",
       "1              True            flexible     Private room             2005.0   \n",
       "2             False            moderate  Entire home/apt             2009.0   \n",
       "3              True              strict     Private room             2005.0   \n",
       "4             False            flexible  Entire home/apt             2004.0   \n",
       "\n",
       "   price  service fee  minimum nights  number of reviews last review  \\\n",
       "0    966          193            10.0                9.0  10/19/2021   \n",
       "1    620          124             3.0                0.0    00-00-00   \n",
       "2    204           41            10.0                9.0  11/19/2018   \n",
       "3   1018          204             2.0              430.0   6/24/2019   \n",
       "4    319           64             1.0              160.0    6/9/2019   \n",
       "\n",
       "   reviews per month  review rate number  calculated host listings count  \\\n",
       "0               0.21                 4.0                             6.0   \n",
       "1               0.00                 5.0                             1.0   \n",
       "2               0.10                 3.0                             1.0   \n",
       "3               3.47                 3.0                             1.0   \n",
       "4               1.33                 3.0                             4.0   \n",
       "\n",
       "   availability 365  \n",
       "0             286.0  \n",
       "1             352.0  \n",
       "2             289.0  \n",
       "3             180.0  \n",
       "4               1.0  "
      ]
     },
     "execution_count": 91,
     "metadata": {},
     "output_type": "execute_result"
    }
   ],
   "source": [
    "df = pd.read_csv('/Users/mihirnevpurkar/Documents/Python/new_clean_airbnb.csv')\n",
    "df.head()\n",
    "\n"
   ]
  },
  {
   "cell_type": "code",
   "execution_count": 104,
   "id": "84ac1483",
   "metadata": {},
   "outputs": [
    {
     "name": "stdout",
     "output_type": "stream",
     "text": [
      "<class 'pandas.core.frame.DataFrame'>\n",
      "RangeIndex: 82980 entries, 0 to 82979\n",
      "Data columns (total 21 columns):\n",
      " #   Column                          Non-Null Count  Dtype  \n",
      "---  ------                          --------------  -----  \n",
      " 0   NAME                            82980 non-null  object \n",
      " 1   host_identity_verified          82980 non-null  object \n",
      " 2   host name                       82980 non-null  object \n",
      " 3   neighbourhood group             82980 non-null  object \n",
      " 4   neighbourhood                   82980 non-null  object \n",
      " 5   lat                             82980 non-null  float64\n",
      " 6   long                            82980 non-null  float64\n",
      " 7   instant_bookable                82980 non-null  bool   \n",
      " 8   cancellation_policy             82980 non-null  object \n",
      " 9   room type                       82980 non-null  object \n",
      " 10  Construction year               82980 non-null  float64\n",
      " 11  price                           82980 non-null  int64  \n",
      " 12  service fee                     82980 non-null  int64  \n",
      " 13  minimum nights                  82980 non-null  float64\n",
      " 14  number of reviews               82980 non-null  float64\n",
      " 15  last review                     82980 non-null  object \n",
      " 16  reviews per month               82980 non-null  float64\n",
      " 17  review rate number              82980 non-null  float64\n",
      " 18  calculated host listings count  82980 non-null  float64\n",
      " 19  availability 365                82980 non-null  float64\n",
      " 20  y_km                            82980 non-null  int32  \n",
      "dtypes: bool(1), float64(9), int32(1), int64(2), object(8)\n",
      "memory usage: 12.4+ MB\n"
     ]
    }
   ],
   "source": [
    "df.info()"
   ]
  },
  {
   "cell_type": "code",
   "execution_count": 93,
   "id": "3a23285a",
   "metadata": {},
   "outputs": [],
   "source": [
    "df_clust = df[['lat','long','Construction year','minimum nights','number of reviews','review rate number','availability 365']]"
   ]
  },
  {
   "cell_type": "code",
   "execution_count": 94,
   "id": "d32c59d5",
   "metadata": {},
   "outputs": [],
   "source": [
    "kmeans = KMeans(n_clusters=3)"
   ]
  },
  {
   "cell_type": "code",
   "execution_count": 95,
   "id": "cfd24864",
   "metadata": {},
   "outputs": [
    {
     "data": {
      "text/plain": [
       "KMeans(n_clusters=3)"
      ]
     },
     "execution_count": 95,
     "metadata": {},
     "output_type": "execute_result"
    }
   ],
   "source": [
    "kmeans.fit(df_clust)"
   ]
  },
  {
   "cell_type": "code",
   "execution_count": 97,
   "id": "c262c017",
   "metadata": {},
   "outputs": [],
   "source": [
    "y_km = kmeans.fit_predict(df_clust)"
   ]
  },
  {
   "cell_type": "code",
   "execution_count": 98,
   "id": "d19bb629",
   "metadata": {},
   "outputs": [],
   "source": [
    "import matplotlib.pyplot as plt\n",
    "\n",
    "df['y_km'] = y_km\n"
   ]
  },
  {
   "cell_type": "code",
   "execution_count": 99,
   "id": "b1e2dae7",
   "metadata": {},
   "outputs": [
    {
     "data": {
      "text/plain": [
       "array([1, 2, 0], dtype=int32)"
      ]
     },
     "execution_count": 99,
     "metadata": {},
     "output_type": "execute_result"
    }
   ],
   "source": [
    "df['y_km'].unique()"
   ]
  },
  {
   "cell_type": "code",
   "execution_count": 100,
   "id": "29623dc3",
   "metadata": {},
   "outputs": [],
   "source": [
    "clust_1 = df[df['y_km'] == 0]"
   ]
  },
  {
   "cell_type": "code",
   "execution_count": 101,
   "id": "12c88ea5",
   "metadata": {},
   "outputs": [
    {
     "data": {
      "text/plain": [
       "lat                                 40.728129\n",
       "long                               -73.952200\n",
       "instant_bookable                     0.501374\n",
       "Construction year                 2012.549735\n",
       "price                              626.305181\n",
       "service fee                        125.261250\n",
       "minimum nights                       3.227358\n",
       "number of reviews                   18.310633\n",
       "reviews per month                    0.989426\n",
       "review rate number                   3.290621\n",
       "calculated host listings count       2.134634\n",
       "availability 365                    21.264226\n",
       "y_km                                 0.000000\n",
       "dtype: float64"
      ]
     },
     "execution_count": 101,
     "metadata": {},
     "output_type": "execute_result"
    }
   ],
   "source": [
    "clust_1.mean()"
   ]
  },
  {
   "cell_type": "code",
   "execution_count": 102,
   "id": "199d3a04",
   "metadata": {},
   "outputs": [
    {
     "data": {
      "text/plain": [
       "lat                                 40.724780\n",
       "long                               -73.940954\n",
       "instant_bookable                     0.496203\n",
       "Construction year                 2012.479825\n",
       "price                              627.887935\n",
       "service fee                        125.578590\n",
       "minimum nights                       2.796764\n",
       "number of reviews                   34.464936\n",
       "reviews per month                    1.530614\n",
       "review rate number                   3.269592\n",
       "calculated host listings count       8.133754\n",
       "availability 365                   316.653333\n",
       "y_km                                 1.000000\n",
       "dtype: float64"
      ]
     },
     "execution_count": 102,
     "metadata": {},
     "output_type": "execute_result"
    }
   ],
   "source": [
    "clust_2 = df[df['y_km'] == 1]\n",
    "clust_2.mean()"
   ]
  },
  {
   "cell_type": "code",
   "execution_count": 103,
   "id": "2cca7e4d",
   "metadata": {},
   "outputs": [
    {
     "data": {
      "text/plain": [
       "lat                                 40.725446\n",
       "long                               -73.945104\n",
       "instant_bookable                     0.491972\n",
       "Construction year                 2012.393184\n",
       "price                              624.427425\n",
       "service fee                        124.885102\n",
       "minimum nights                       2.907433\n",
       "number of reviews                   47.635421\n",
       "reviews per month                    1.815259\n",
       "review rate number                   3.253722\n",
       "calculated host listings count       4.985804\n",
       "availability 365                   159.285623\n",
       "y_km                                 2.000000\n",
       "dtype: float64"
      ]
     },
     "execution_count": 103,
     "metadata": {},
     "output_type": "execute_result"
    }
   ],
   "source": [
    "clust_3 = df[df['y_km'] == 2]\n",
    "clust_3.mean()"
   ]
  },
  {
   "cell_type": "code",
   "execution_count": null,
   "id": "e6c80a92",
   "metadata": {},
   "outputs": [],
   "source": []
  },
  {
   "cell_type": "code",
   "execution_count": 69,
   "id": "640d84ab",
   "metadata": {},
   "outputs": [],
   "source": [
    "##CLuster EDA\n",
    "import numpy as np\n",
    "import pandas as pd\n",
    "from pandas import Series,DataFrame\n",
    "\n",
    "import matplotlib.pyplot as plt\n",
    "import seaborn as sns\n",
    "\n",
    "%matplotlib inline\n",
    "\n",
    "plt.rcParams['figure.figsize'] = (20,10)\n",
    "plt.style.use('dark_background')\n",
    "\n",
    "import warnings\n",
    "warnings.filterwarnings('ignore')"
   ]
  },
  {
   "cell_type": "code",
   "execution_count": 87,
   "id": "f1fd6278",
   "metadata": {},
   "outputs": [
    {
     "data": {
      "text/plain": [
       "(array([0, 1, 2, 3]),\n",
       " [Text(0, 0, 'Private room'),\n",
       "  Text(1, 0, 'Entire home/apt'),\n",
       "  Text(2, 0, 'Shared room'),\n",
       "  Text(3, 0, 'Hotel room')])"
      ]
     },
     "execution_count": 87,
     "metadata": {},
     "output_type": "execute_result"
    },
    {
     "data": {
      "image/png": "[encoded data removed]",
      "text/plain": [
       "<Figure size 1440x720 with 1 Axes>"
      ]
     },
     "metadata": {},
     "output_type": "display_data"
    }
   ],
   "source": [
    "sns.countplot('room type',data=clust_1)\n",
    "plt.xticks(rotation=90)"
   ]
  },
  {
   "cell_type": "code",
   "execution_count": 88,
   "id": "4dfb9ad6",
   "metadata": {},
   "outputs": [
    {
     "data": {
      "text/plain": [
       "(array([0, 1, 2, 3]),\n",
       " [Text(0, 0, 'Entire home/apt'),\n",
       "  Text(1, 0, 'Private room'),\n",
       "  Text(2, 0, 'Shared room'),\n",
       "  Text(3, 0, 'Hotel room')])"
      ]
     },
     "execution_count": 88,
     "metadata": {},
     "output_type": "execute_result"
    },
    {
     "data": {
      "image/png": "[encoded data removed]",
      "text/plain": [
       "<Figure size 1440x720 with 1 Axes>"
      ]
     },
     "metadata": {},
     "output_type": "display_data"
    }
   ],
   "source": [
    "sns.countplot('room type',data=clust_2)\n",
    "plt.xticks(rotation=90)"
   ]
  },
  {
   "cell_type": "code",
   "execution_count": 89,
   "id": "bde08fce",
   "metadata": {},
   "outputs": [
    {
     "data": {
      "text/plain": [
       "(array([0, 1, 2, 3]),\n",
       " [Text(0, 0, 'Entire home/apt'),\n",
       "  Text(1, 0, 'Private room'),\n",
       "  Text(2, 0, 'Shared room'),\n",
       "  Text(3, 0, 'Hotel room')])"
      ]
     },
     "execution_count": 89,
     "metadata": {},
     "output_type": "execute_result"
    },
    {
     "data": {
      "image/png": "[encoded data removed]",
      "text/plain": [
       "<Figure size 1440x720 with 1 Axes>"
      ]
     },
     "metadata": {},
     "output_type": "display_data"
    }
   ],
   "source": [
    "sns.countplot('room type',data=clust_3)\n",
    "plt.xticks(rotation=90)"
   ]
  },
  {
   "cell_type": "code",
   "execution_count": null,
   "id": "08093edc",
   "metadata": {},
   "outputs": [],
   "source": []
  }
 ],
 "metadata": {
  "kernelspec": {
   "display_name": "Python 3 (ipykernel)",
   "language": "python",
   "name": "python3"
  },
  "language_info": {
   "codemirror_mode": {
    "name": "ipython",
    "version": 3
   },
   "file_extension": ".py",
   "mimetype": "text/x-python",
   "name": "python",
   "nbconvert_exporter": "python",
   "pygments_lexer": "ipython3",
   "version": "3.9.12"
  }
 },
 "nbformat": 4,
 "nbformat_minor": 5
}
